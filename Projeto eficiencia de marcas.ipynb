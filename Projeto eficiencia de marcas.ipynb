{
 "cells": [
  {
   "cell_type": "markdown",
   "metadata": {},
   "source": [
    "Projeto: Marcas A e B\n",
    "Objetivo: \n",
    "Entender o comportamentos entre as marcas, como estam distribuidos os preços e o período onde mais vende."
   ]
  },
  {
   "cell_type": "code",
   "execution_count": 1,
   "metadata": {},
   "outputs": [],
   "source": [
    "# Imporando bibliotecas para modelagem de dados\n",
    "import pandas as pd\n",
    "import numpy as np"
   ]
  },
  {
   "cell_type": "code",
   "execution_count": 2,
   "metadata": {},
   "outputs": [
    {
     "data": {
      "text/html": [
       "<div>\n",
       "<style scoped>\n",
       "    .dataframe tbody tr th:only-of-type {\n",
       "        vertical-align: middle;\n",
       "    }\n",
       "\n",
       "    .dataframe tbody tr th {\n",
       "        vertical-align: top;\n",
       "    }\n",
       "\n",
       "    .dataframe thead th {\n",
       "        text-align: right;\n",
       "    }\n",
       "</style>\n",
       "<table border=\"1\" class=\"dataframe\">\n",
       "  <thead>\n",
       "    <tr style=\"text-align: right;\">\n",
       "      <th></th>\n",
       "      <th>ï»¿Vendas</th>\n",
       "      <th>Preco</th>\n",
       "      <th>Horas</th>\n",
       "      <th>Marca_Propria</th>\n",
       "    </tr>\n",
       "  </thead>\n",
       "  <tbody>\n",
       "    <tr>\n",
       "      <th>0</th>\n",
       "      <td>100.0</td>\n",
       "      <td>10.0</td>\n",
       "      <td>2.0</td>\n",
       "      <td>1</td>\n",
       "    </tr>\n",
       "    <tr>\n",
       "      <th>1</th>\n",
       "      <td>120.0</td>\n",
       "      <td>11.0</td>\n",
       "      <td>3.0</td>\n",
       "      <td>1</td>\n",
       "    </tr>\n",
       "    <tr>\n",
       "      <th>2</th>\n",
       "      <td>105.0</td>\n",
       "      <td>13.0</td>\n",
       "      <td>2.0</td>\n",
       "      <td>1</td>\n",
       "    </tr>\n",
       "    <tr>\n",
       "      <th>3</th>\n",
       "      <td>110.0</td>\n",
       "      <td>12.0</td>\n",
       "      <td>3.0</td>\n",
       "      <td>1</td>\n",
       "    </tr>\n",
       "    <tr>\n",
       "      <th>4</th>\n",
       "      <td>95.0</td>\n",
       "      <td>15.0</td>\n",
       "      <td>2.0</td>\n",
       "      <td>1</td>\n",
       "    </tr>\n",
       "  </tbody>\n",
       "</table>\n",
       "</div>"
      ],
      "text/plain": [
       "   ï»¿Vendas  Preco  Horas   Marca_Propria\n",
       "0      100.0   10.0    2.0               1\n",
       "1      120.0   11.0    3.0               1\n",
       "2      105.0   13.0    2.0               1\n",
       "3      110.0   12.0    3.0               1\n",
       "4       95.0   15.0    2.0               1"
      ]
     },
     "execution_count": 2,
     "metadata": {},
     "output_type": "execute_result"
    }
   ],
   "source": [
    "# Importando base de dados\n",
    "df=pd.read_csv(r'C:\\\\Users\\\\Usuário\\Downloads\\\\portifolio3\\\\archive (7)\\\\vendas.txt', sep=',', encoding='latin-1')\n",
    "df.head()"
   ]
  },
  {
   "cell_type": "code",
   "execution_count": 3,
   "metadata": {},
   "outputs": [
    {
     "data": {
      "text/plain": [
       "(40, 4)"
      ]
     },
     "execution_count": 3,
     "metadata": {},
     "output_type": "execute_result"
    }
   ],
   "source": [
    "# Total de linhas e colunas\n",
    "df.shape"
   ]
  },
  {
   "cell_type": "code",
   "execution_count": 4,
   "metadata": {},
   "outputs": [
    {
     "data": {
      "text/plain": [
       "ï»¿Vendas         40\n",
       "Preco             40\n",
       "Horas             40\n",
       " Marca_Propria    40\n",
       "dtype: int64"
      ]
     },
     "execution_count": 4,
     "metadata": {},
     "output_type": "execute_result"
    }
   ],
   "source": [
    "# Excluindo duplicatas\n",
    "df.drop_duplicates().count()"
   ]
  },
  {
   "cell_type": "code",
   "execution_count": 5,
   "metadata": {},
   "outputs": [
    {
     "data": {
      "text/plain": [
       "ï»¿Vendas         0\n",
       "Preco             0\n",
       "Horas             0\n",
       " Marca_Propria    0\n",
       "dtype: int64"
      ]
     },
     "execution_count": 5,
     "metadata": {},
     "output_type": "execute_result"
    }
   ],
   "source": [
    "# Verificando valores faltantes\n",
    "df.isnull().sum()"
   ]
  },
  {
   "cell_type": "code",
   "execution_count": 6,
   "metadata": {},
   "outputs": [
    {
     "data": {
      "text/plain": [
       "Index(['ï»¿Vendas', 'Preco', 'Horas', ' Marca_Propria'], dtype='object')"
      ]
     },
     "execution_count": 6,
     "metadata": {},
     "output_type": "execute_result"
    }
   ],
   "source": [
    "# Todas as colunas\n",
    "df.columns"
   ]
  },
  {
   "cell_type": "code",
   "execution_count": 7,
   "metadata": {},
   "outputs": [
    {
     "data": {
      "text/plain": [
       "Index(['ï»¿Vendas', 'Preco', 'Horas', 'Marca'], dtype='object')"
      ]
     },
     "execution_count": 7,
     "metadata": {},
     "output_type": "execute_result"
    }
   ],
   "source": [
    "# Renomeando coluna 'Marca_Propria'\n",
    "df.rename(columns={' Marca_Propria':'Marca'}, inplace=True)\n",
    "df.columns"
   ]
  },
  {
   "cell_type": "code",
   "execution_count": 8,
   "metadata": {},
   "outputs": [
    {
     "data": {
      "text/plain": [
       "Index(['Vendas', 'Preco', 'Horas', 'Marca'], dtype='object')"
      ]
     },
     "execution_count": 8,
     "metadata": {},
     "output_type": "execute_result"
    }
   ],
   "source": [
    "# Renomeando coluna 'ï»¿Vendas'\n",
    "df.rename(columns={'ï»¿Vendas': 'Vendas'}, inplace=True)\n",
    "df.columns"
   ]
  },
  {
   "cell_type": "code",
   "execution_count": 9,
   "metadata": {},
   "outputs": [
    {
     "data": {
      "text/plain": [
       "Index(['Vendas', 'Preço', 'Horas', 'Marca'], dtype='object')"
      ]
     },
     "execution_count": 9,
     "metadata": {},
     "output_type": "execute_result"
    }
   ],
   "source": [
    "# Renomeando coluna 'Preco'\n",
    "df.rename(columns={'Preco': 'Preço'}, inplace=True)\n",
    "df.columns"
   ]
  },
  {
   "cell_type": "code",
   "execution_count": 10,
   "metadata": {},
   "outputs": [
    {
     "data": {
      "text/plain": [
       "dtype('float64')"
      ]
     },
     "execution_count": 10,
     "metadata": {},
     "output_type": "execute_result"
    }
   ],
   "source": [
    "# Verificando o tipo da coluna 'Horas'\n",
    "df['Horas'].dtypes"
   ]
  },
  {
   "cell_type": "code",
   "execution_count": 11,
   "metadata": {},
   "outputs": [],
   "source": [
    "# Transformando para tipo inteiro, coluna 'Horas'\n",
    "df['Horas'] = df['Horas'].astype(int)"
   ]
  },
  {
   "cell_type": "markdown",
   "metadata": {},
   "source": [
    "Começando as análises"
   ]
  },
  {
   "cell_type": "code",
   "execution_count": 12,
   "metadata": {},
   "outputs": [
    {
     "data": {
      "text/plain": [
       "array([1, 0], dtype=int64)"
      ]
     },
     "execution_count": 12,
     "metadata": {},
     "output_type": "execute_result"
    }
   ],
   "source": [
    "# Quantidades únicas, coluna 'Marca'\n",
    "df['Marca'].unique()"
   ]
  },
  {
   "cell_type": "code",
   "execution_count": 13,
   "metadata": {},
   "outputs": [
    {
     "data": {
      "text/plain": [
       "array(['B', 'A'], dtype=object)"
      ]
     },
     "execution_count": 13,
     "metadata": {},
     "output_type": "execute_result"
    }
   ],
   "source": [
    "# Renomeando linhas da coluna \"Marca\"\n",
    "marcas = {\n",
    "    0: 'A',\n",
    "    1:'B'\n",
    "}\n",
    "\n",
    "# Aplicando mapeamento \n",
    "df['Marca'] = df['Marca'].replace(marcas)\n",
    "df['Marca'].unique()"
   ]
  },
  {
   "cell_type": "code",
   "execution_count": 20,
   "metadata": {},
   "outputs": [
    {
     "name": "stdout",
     "output_type": "stream",
     "text": [
      "Preços 'Marca A: [ 8.  9. 10. 11. 12. 13. 14. 15. 16. 17. 18. 19.]\n",
      "Soma total das vendas: 3867.0\n",
      "\n",
      "Preços 'Marca B: [10. 11. 12. 13. 15. 18. 19. 20. 21.]\n",
      "Soma totas das vendas: 1175.0\n"
     ]
    }
   ],
   "source": [
    "#### Filtro coluna 'Marca' A\n",
    "marca_a = df[df['Marca'] == 'A']\n",
    "\n",
    "preco_marca_a = marca_a['Preço'].unique() # Valores únicos coluna 'Preço'\n",
    "total= marca_a['Vendas'].sum() # Soma coluna 'Vendas'\n",
    "soma_vendas_marca_a = pd.Series(preco_marca_a).sort_values().values # Ordenando\n",
    "\n",
    "# Filtro coluna'Marca' B\n",
    "marca_b = df[df['Marca'] == 'B']\n",
    "\n",
    "preco_marca_b = marca_b['Preço'].unique() # Valores únicos coluna 'Preço'\n",
    "total1= marca_b['Vendas'].sum() # Soma coluna 'Vendas'\n",
    "soma_vendas_marca_b = pd.Series(preco_marca_b).sort_values().values # Ordenando\n",
    "\n",
    "# Exibindo o resultado\n",
    "print(\"Preços 'Marca A:\", soma_vendas_marca_a)\n",
    "print(\"Soma total das vendas:\", total)\n",
    "print()\n",
    "print(\"Preços 'Marca B:\", soma_vendas_marca_b)\n",
    "print(\"Soma totas das vendas:\",total1)\n"
   ]
  },
  {
   "cell_type": "code",
   "execution_count": 16,
   "metadata": {},
   "outputs": [
    {
     "name": "stdout",
     "output_type": "stream",
     "text": [
      "Maior preço Marca A: 19.0\n"
     ]
    }
   ],
   "source": [
    "# Maior 'Preço' da 'Marca' A\n",
    "maior=df[df['Marca'] == 'A']\n",
    "print(f'Maior preço Marca A: {maior['Preço'].max()}')"
   ]
  },
  {
   "cell_type": "code",
   "execution_count": 17,
   "metadata": {},
   "outputs": [
    {
     "name": "stdout",
     "output_type": "stream",
     "text": [
      "Maior preço Marca B: 21.0\n"
     ]
    }
   ],
   "source": [
    "# Maior 'Preço' da 'Marca' B\n",
    "maior=df[df['Marca'] == 'B']\n",
    "print(f'Maior preço Marca B: {maior['Preço'].max()}')"
   ]
  },
  {
   "cell_type": "code",
   "execution_count": 18,
   "metadata": {},
   "outputs": [
    {
     "name": "stdout",
     "output_type": "stream",
     "text": [
      "Quantidade de vendas: 29 Marca A\n"
     ]
    }
   ],
   "source": [
    "# Quantidade de Vendas por 'Marca' A\n",
    "quantidade_a=df[df['Marca'] == 'A']\n",
    "print(f'Quantidade de vendas: {quantidade_a['Vendas'].count()} Marca A')"
   ]
  },
  {
   "cell_type": "code",
   "execution_count": 19,
   "metadata": {},
   "outputs": [
    {
     "name": "stdout",
     "output_type": "stream",
     "text": [
      "Quantidade de vendas: 11 Marca B\n"
     ]
    }
   ],
   "source": [
    "# Quantidade de Vendas por 'Marca' B\n",
    "quantidade_b=df[df['Marca'] == 'B']\n",
    "print(f'Quantidade de vendas: {quantidade_b['Vendas'].count()} Marca B')"
   ]
  },
  {
   "cell_type": "code",
   "execution_count": 34,
   "metadata": {},
   "outputs": [
    {
     "name": "stdout",
     "output_type": "stream",
     "text": [
      "Total de hora/venda por 'Marca A' : 293\n",
      "Total de hora/venda por 'Marca B': 47\n"
     ]
    }
   ],
   "source": [
    "# Filtrando Marca A\n",
    "filtro_marca_a = df[df['Marca'] == 'A']\n",
    "\n",
    "# Soma das horas\n",
    "soma_vendas_marca_a = filtro_marca_a['Horas'].sum()\n",
    "\n",
    "# Filtrando Marca B\n",
    "filtro_marca_b = df[df['Marca'] == 'B']\n",
    "\n",
    "# Soma das horas\n",
    "soma_vendas_marca_b = filtro_marca_b['Horas'].sum()\n",
    "\n",
    "# Exibindo o resultado\n",
    "print(\"Total de hora/venda por 'Marca A' :\", soma_vendas_marca_a)\n",
    "print(\"Total de hora/venda por 'Marca B':\", soma_vendas_marca_b)\n"
   ]
  },
  {
   "cell_type": "code",
   "execution_count": 35,
   "metadata": {},
   "outputs": [
    {
     "name": "stdout",
     "output_type": "stream",
     "text": [
      "-----------Marca A---------------------------------Marca B----------------------\n",
      "Total de vendas:                3867  |  Total de vendas:                1175\n",
      "Total de horas:                  293  |  Total de horas:                   47\n",
      "Eficiência do tempo de venda:  13.2%  |  Eficiência do tempo de venda:  25.0%\n"
     ]
    }
   ],
   "source": [
    "# Total de vendas 'Marca' A\n",
    "total_vendas_A = 3867\n",
    "# Total de horas para Marca A\n",
    "horas_A = 293\n",
    "# Cálculo eficiência de horas para Marca A\n",
    "eficiencia_tempo_A = (total_vendas_A / horas_A) * 100\n",
    "\n",
    "# Total de vendas 'Marca' B\n",
    "total_vendas_B = 1175\n",
    "# Total de horas para Marca B\n",
    "horas_B = 47\n",
    "# Cálculo eficiência de horas para Marca B\n",
    "eficiencia_tempo_B = (total_vendas_B / horas_B) * 100\n",
    "\n",
    "# Exibir as informações lado a lado\n",
    "print(f\"{'Marca A':-^30}{'Marca B':-^50}\")\n",
    "print(f\"Total de vendas: {total_vendas_A:>19}  |  Total de vendas: {total_vendas_B:>19}\")\n",
    "print(f\"Total de horas: {horas_A:>20}  |  Total de horas: {horas_B:>20}\")\n",
    "print(f\"Eficiência do tempo de venda: {round(eficiencia_tempo_A / 100, 2):>5}%  |  Eficiência do tempo de venda: {round(eficiencia_tempo_B / 100, 2):>5}%\")\n"
   ]
  },
  {
   "cell_type": "code",
   "execution_count": 39,
   "metadata": {},
   "outputs": [
    {
     "data": {
      "image/png": "[encoded data removed]",
      "text/plain": [
       "<Figure size 640x480 with 1 Axes>"
      ]
     },
     "metadata": {},
     "output_type": "display_data"
    }
   ],
   "source": [
    "# Importando biblioteca para criação de gráfico\n",
    "import matplotlib.pyplot as plt\n",
    "\n",
    "# Dados dos 'preço'\n",
    "marca_a_valores = [8, 9, 10, 11, 12, 13, 14, 15, 16, 17, 18, 19]\n",
    "marca_b_valores = [10, 11, 12, 13, 15, 18, 19, 20, 21]\n",
    "\n",
    "\n",
    "# Criação da figura e dos eixos\n",
    "fig, ax1 = plt.subplots()\n",
    "\n",
    "# Plot dos valores\n",
    "ax1.set_ylabel('Preço')\n",
    "ax1.plot(marca_a_valores, label='Marca A', color='tab:blue')\n",
    "ax1.plot(marca_b_valores, label='Marca B', color='tab:orange')\n",
    "ax1.tick_params(axis='y')\n",
    "\n",
    "# Remover o eixo x\n",
    "ax1.get_xaxis().set_visible(False)\n",
    "\n",
    "# Títulos e legendas\n",
    "plt.title('Comparação Preço das Marcas A e Marca B')\n",
    "fig.tight_layout()\n",
    "fig.legend(loc='upper left', bbox_to_anchor=(0.1, 0.9));\n",
    "\n"
   ]
  },
  {
   "cell_type": "code",
   "execution_count": 40,
   "metadata": {},
   "outputs": [
    {
     "name": "stdout",
     "output_type": "stream",
     "text": [
      "Quantidade por períodos:\n",
      "período da madrugada: 11\n",
      "período da manhã: 17 \n",
      "período da tarde: 1 \n"
     ]
    }
   ],
   "source": [
    "# Filtrando por período\n",
    "print('Quantidade por períodos:')\n",
    "madrugada = df[(df['Horas'] >= 2) & (df['Horas'] <= 5)].value_counts().shape[0]\n",
    "print(f'período da madrugada: {madrugada}')\n",
    "\n",
    "manha = df[(df['Horas'] >= 6) & (df['Horas'] <= 10)].value_counts().shape[0]\n",
    "print(f'período da manhã: {manha} ')\n",
    "\n",
    "noite = df[(df['Horas'] == 18)].value_counts().shape[0]\n",
    "print(f'período da tarde: {noite} ')"
   ]
  }
 ],
 "metadata": {
  "kernelspec": {
   "display_name": "Python 3",
   "language": "python",
   "name": "python3"
  },
  "language_info": {
   "codemirror_mode": {
    "name": "ipython",
    "version": 3
   },
   "file_extension": ".py",
   "mimetype": "text/x-python",
   "name": "python",
   "nbconvert_exporter": "python",
   "pygments_lexer": "ipython3",
   "version": "3.12.2"
  }
 },
 "nbformat": 4,
 "nbformat_minor": 2
}
